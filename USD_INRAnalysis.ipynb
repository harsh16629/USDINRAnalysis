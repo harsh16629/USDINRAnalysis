{
  "cells": [
    {
      "cell_type": "code",
      "execution_count": 15,
      "metadata": {
        "id": "Ne1KfNWiC2U3"
      },
      "outputs": [],
      "source": [
        "import yfinance as yf\n",
        "import numpy as np\n",
        "import datetime\n",
        "import pandas as pd\n",
        "import matplotlib.pyplot as plt\n"
      ]
    },
    {
      "cell_type": "code",
      "execution_count": 18,
      "metadata": {
        "id": "GuBl9UCNk_j5"
      },
      "outputs": [],
      "source": [
        "start = datetime.datetime(2024,1,1)\n",
        "end = datetime.datetime(2024,8,5)\n"
      ]
    },
    {
      "cell_type": "code",
      "execution_count": 24,
      "metadata": {
        "colab": {
          "base_uri": "https://localhost:8080/"
        },
        "id": "2etqs9JJnIKn",
        "outputId": "a06ced38-2636-466b-93a7-182faedc017b"
      },
      "outputs": [
        {
          "name": "stderr",
          "output_type": "stream",
          "text": [
            "\r[*********************100%%**********************]  1 of 1 completed\n"
          ]
        }
      ],
      "source": [
        "RD = yf.download(\"INR=X\", start, end)"
      ]
    },
    {
      "cell_type": "code",
      "execution_count": 2,
      "metadata": {
        "colab": {
          "base_uri": "https://localhost:8080/",
          "height": 482
        },
        "id": "FiEIMZ_oonI6",
        "outputId": "19a4cf83-1523-47a6-ebe8-00c7e079f127"
      },
      "outputs": [
        {
          "ename": "NameError",
          "evalue": "name 'pd' is not defined",
          "output_type": "error",
          "traceback": [
            "\u001b[1;31m---------------------------------------------------------------------------\u001b[0m",
            "\u001b[1;31mNameError\u001b[0m                                 Traceback (most recent call last)",
            "Cell \u001b[1;32mIn[2], line 1\u001b[0m\n\u001b[1;32m----> 1\u001b[0m RD_pd \u001b[38;5;241m=\u001b[39m \u001b[43mpd\u001b[49m\u001b[38;5;241m.\u001b[39mDataFrame(RD)\n\u001b[0;32m      2\u001b[0m RD_pd\u001b[38;5;241m.\u001b[39mhead()\n",
            "\u001b[1;31mNameError\u001b[0m: name 'pd' is not defined"
          ]
        }
      ],
      "source": [
        "RD_pd = pd.DataFrame(RD)\n",
        "RD_pd"
      ]
    },
    {
      "cell_type": "code",
      "execution_count": 56,
      "metadata": {
        "id": "4kiL2-rIrXjC"
      },
      "outputs": [],
      "source": [
        "\n",
        "def menu():\n",
        "  print(\"What data would you like to visuaize?\")\n",
        "  print(\"1. Open\\n2. Close\\n3. Open vs Close\\n4. High\\n5. Low\\n6. High vs Low\\n7. Adjusted Close\")\n",
        "  choice = int(input(\"Enter your choice: \"))\n",
        "  return choice\n",
        "\n",
        "def Open(symbol, name):\n",
        "  data = yf.download(symbol, start, end)\n",
        "  return data['Open'].plot(label = f\"{name} Open\")\n",
        "\n",
        "def Close(symbol, name):\n",
        "  data = yf.download(symbol, start, end)\n",
        "  return data['Close'].plot(label = f\"{name} Close\")\n",
        "\n",
        "def OpenClose(symbol, name):\n",
        "  data = yf.download(symbol, start, end)\n",
        "  return data['Open'].plot(label = f\"{name} Open\"), data['Close'].plot(label = f\"{name} Close\")\n",
        "\n",
        "def High(symbol, name):\n",
        "  data = yf.download(symbol, start, end)\n",
        "  return data['High'].plot(label = f\"{name} High\")\n",
        "\n",
        "def Low(symbol, name):\n",
        "  data = yf.download(symbol, start, end)\n",
        "  return data['Low'].plot(label = f\"{name} Low\")\n",
        "\n",
        "def HighLow(symbol, name):\n",
        "  data = yf.download(symbol, start, end)\n",
        "  return data['High'].plot(label = f\"{name} High\"), data['Low'].plot(label = f\"{name} Low\")\n",
        "\n",
        "def AdjustedClose(symbol, name):\n",
        "  data = yf.download(symbol, start, end)\n",
        "  return data['Adj Close'].plot(label = f\"{name} Adjusted Close\")\n",
        "\n",
        "def option(menu):\n",
        "  if menu == 1:\n",
        "    return Open(\"INR=X\", \"INR\")\n",
        "  elif menu == 2:\n",
        "    return Close(\"INR=X\", \"INR\")\n",
        "  elif menu == 3:\n",
        "    return OpenClose(\"INR=X\", \"INR\")\n",
        "  elif menu == 4:\n",
        "    return High(\"INR=X\", \"INR\")\n",
        "  elif menu == 5:\n",
        "    return Low(\"INR=X\", \"INR\")\n",
        "  elif menu == 6:\n",
        "    return HighLow(\"INR=X\", \"INR\")\n",
        "  elif menu == 7:\n",
        "    return AdjustedClose(\"INR=X\", \"INR\")\n",
        "  else:\n",
        "    print(\"Invalid choice\")"
      ]
    },
    {
      "cell_type": "code",
      "execution_count": null,
      "metadata": {},
      "outputs": [],
      "source": [
        "choice = menu()\n",
        "option(choice)\n",
        "plt.xlabel(\"Date\")\n",
        "plt.ylabel(\"INR Value\")\n",
        "plt.legend()\n",
        "plt.show()"
      ]
    }
  ],
  "metadata": {
    "colab": {
      "provenance": []
    },
    "kernelspec": {
      "display_name": "Python 3",
      "name": "python3"
    },
    "language_info": {
      "codemirror_mode": {
        "name": "ipython",
        "version": 3
      },
      "file_extension": ".py",
      "mimetype": "text/x-python",
      "name": "python",
      "nbconvert_exporter": "python",
      "pygments_lexer": "ipython3",
      "version": "3.12.4"
    }
  },
  "nbformat": 4,
  "nbformat_minor": 0
}
